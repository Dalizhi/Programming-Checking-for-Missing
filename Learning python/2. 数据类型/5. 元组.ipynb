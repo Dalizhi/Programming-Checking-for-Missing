{
 "cells": [
  {
   "cell_type": "markdown",
   "metadata": {},
   "source": [
    "### 元组特点[B1P280]\n",
    " - 任意对象的有序集合\n",
    " - 通过偏移量存取\n",
    " - 属于不可变序列\n",
    " - 固定长度，多样性，任意嵌套。    \n",
    "     元组是不可变的，如果你不能创建一个新的元组就不能增长或者缩短元组。元组里可以包含其它的可变对象，比如列表，字典等，因为元组里存放的是其它对象的引用（指针）。"
   ]
  },
  {
   "cell_type": "code",
   "execution_count": 9,
   "metadata": {},
   "outputs": [
    {
     "name": "stdout",
     "output_type": "stream",
     "text": [
      "<class 'int'>\n",
      "<class 'tuple'>\n",
      "<class 'tuple'>\n"
     ]
    }
   ],
   "source": [
    "# 注意：含有一个单元素的元组后面得跟一个逗号。\n",
    "# 因为元括号可以把表达式括起来，（40）可以为常量表达式，运算结果为int类型。\n",
    "# 但对于元组来说，在不引起歧义的情况下，你也可以不用圆括号。\n",
    "print(type((40)))\n",
    "print(type((40,)))\n",
    "t = 1,2,3,4\n",
    "print(type(t))"
   ]
  },
  {
   "cell_type": "code",
   "execution_count": null,
   "metadata": {},
   "outputs": [],
   "source": []
  }
 ],
 "metadata": {
  "kernelspec": {
   "display_name": "Python 3",
   "language": "python",
   "name": "python3"
  },
  "language_info": {
   "codemirror_mode": {
    "name": "ipython",
    "version": 3
   },
   "file_extension": ".py",
   "mimetype": "text/x-python",
   "name": "python",
   "nbconvert_exporter": "python",
   "pygments_lexer": "ipython3",
   "version": "3.5.6"
  }
 },
 "nbformat": 4,
 "nbformat_minor": 2
}
